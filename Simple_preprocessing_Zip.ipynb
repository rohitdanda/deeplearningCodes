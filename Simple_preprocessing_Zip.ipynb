{
  "nbformat": 4,
  "nbformat_minor": 0,
  "metadata": {
    "colab": {
      "name": "Simple_preprocessing_Zip.ipynb",
      "provenance": [],
      "authorship_tag": "ABX9TyPYih778i4j/X3VsEXwwi3E",
      "include_colab_link": true
    },
    "kernelspec": {
      "name": "python3",
      "display_name": "Python 3"
    }
  },
  "cells": [
    {
      "cell_type": "markdown",
      "metadata": {
        "id": "view-in-github",
        "colab_type": "text"
      },
      "source": [
        "<a href=\"https://colab.research.google.com/github/rohitdanda/deeplearningCodes/blob/master/Simple_preprocessing_Zip.ipynb\" target=\"_parent\"><img src=\"https://colab.research.google.com/assets/colab-badge.svg\" alt=\"Open In Colab\"/></a>"
      ]
    },
    {
      "cell_type": "markdown",
      "metadata": {
        "id": "ztRSmN01LOAu",
        "colab_type": "text"
      },
      "source": [
        "Below Code is used to import the dataset in zip and download it using the wget linux command \n"
      ]
    },
    {
      "cell_type": "code",
      "metadata": {
        "id": "TTjQrlq5LBa2",
        "colab_type": "code",
        "colab": {
          "base_uri": "https://localhost:8080/",
          "height": 208
        },
        "outputId": "b679b591-6250-4847-9f80-c3e52d33e92e"
      },
      "source": [
        "!wget --no-check-certificate \\\n",
        "    https://storage.googleapis.com/mledu-datasets/cats_and_dogs_filtered.zip \\\n",
        "    -O /tmp/cats_and_dogs_filtered.zip\n",
        "  \n",
        "import os\n",
        "import zipfile"
      ],
      "execution_count": 1,
      "outputs": [
        {
          "output_type": "stream",
          "text": [
            "--2020-06-03 07:54:30--  https://storage.googleapis.com/mledu-datasets/cats_and_dogs_filtered.zip\n",
            "Resolving storage.googleapis.com (storage.googleapis.com)... 172.217.212.128, 2607:f8b0:4001:c12::80\n",
            "Connecting to storage.googleapis.com (storage.googleapis.com)|172.217.212.128|:443... connected.\n",
            "HTTP request sent, awaiting response... 200 OK\n",
            "Length: 68606236 (65M) [application/zip]\n",
            "Saving to: ‘/tmp/cats_and_dogs_filtered.zip’\n",
            "\n",
            "/tmp/cats_and_dogs_ 100%[===================>]  65.43M   125MB/s    in 0.5s    \n",
            "\n",
            "2020-06-03 07:54:31 (125 MB/s) - ‘/tmp/cats_and_dogs_filtered.zip’ saved [68606236/68606236]\n",
            "\n"
          ],
          "name": "stdout"
        }
      ]
    },
    {
      "cell_type": "markdown",
      "metadata": {
        "id": "8VkDEqJsLhQo",
        "colab_type": "text"
      },
      "source": [
        "Once we download the zip in the location we can unzip the zip file using zipfile library and fuction is extractall and pass the location of the folder as parameters\n"
      ]
    },
    {
      "cell_type": "code",
      "metadata": {
        "id": "s-H6xQsSLJ2_",
        "colab_type": "code",
        "colab": {}
      },
      "source": [
        "local_zip = '/tmp/cats_and_dogs_filtered.zip'\n",
        "zip_ref = zipfile.ZipFile(local_zip, 'r')\n",
        "zip_ref.extractall('/tmp')\n",
        "zip_ref.close()"
      ],
      "execution_count": 0,
      "outputs": []
    },
    {
      "cell_type": "markdown",
      "metadata": {
        "id": "0r7aDBGLL13i",
        "colab_type": "text"
      },
      "source": [
        "Now after unzip make sure assign the folder to varible names\n",
        " \n"
      ]
    },
    {
      "cell_type": "code",
      "metadata": {
        "id": "npeRSkqLLzY6",
        "colab_type": "code",
        "colab": {}
      },
      "source": [
        "basefolder = \"/tmp/cats_and_dogs_filtered\"\n",
        "train_dir = os.path.join(basefolder,\"train\")\n",
        "validation_dir = os.path.join(basefolder,\"validation\")"
      ],
      "execution_count": 0,
      "outputs": []
    }
  ]
}